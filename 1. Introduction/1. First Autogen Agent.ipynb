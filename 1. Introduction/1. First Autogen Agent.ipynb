{
 "cells": [
  {
   "cell_type": "markdown",
   "id": "9f92850c",
   "metadata": {},
   "source": [
    "# Autogen Installation\n"
   ]
  },
  {
   "cell_type": "markdown",
   "id": "b1a10e41",
   "metadata": {},
   "source": [
    "1. Create a venv\n",
    "2. Create a requirements.txt\n",
    "3. install autogen-agentchat autogen-core autogen-ext"
   ]
  },
  {
   "cell_type": "markdown",
   "id": "4067dc4c",
   "metadata": {},
   "source": [
    "# First Autogen Agent\n"
   ]
  },
  {
   "cell_type": "code",
   "execution_count": 7,
   "id": "688ca4fa",
   "metadata": {},
   "outputs": [],
   "source": [
    "from autogen_agentchat.agents import AssistantAgent\n",
    "from autogen_ext.models.openai import OpenAIChatCompletionClient\n",
    "from dotenv import load_dotenv\n",
    "import os\n",
    "\n",
    "load_dotenv()\n",
    "\n",
    "api_key = os.getenv('OPENAI_API_KEY')"
   ]
  },
  {
   "cell_type": "markdown",
   "id": "5933fdac",
   "metadata": {},
   "source": [
    "# Connecting to the Model"
   ]
  },
  {
   "cell_type": "code",
   "execution_count": 9,
   "id": "93e8ce47",
   "metadata": {},
   "outputs": [],
   "source": [
    "model_client = OpenAIChatCompletionClient(model='gpt-4o',api_key=api_key)\n"
   ]
  },
  {
   "cell_type": "code",
   "execution_count": 10,
   "id": "7237adda",
   "metadata": {},
   "outputs": [],
   "source": [
    "agent_1 = AssistantAgent(name='my_assistant',model_client=model_client)"
   ]
  },
  {
   "cell_type": "code",
   "execution_count": null,
   "id": "08d3c7e0",
   "metadata": {},
   "outputs": [],
   "source": []
  },
  {
   "cell_type": "code",
   "execution_count": 11,
   "id": "68fd927d",
   "metadata": {},
   "outputs": [],
   "source": [
    "result = await agent_1.run(task='Tell me something about you?')"
   ]
  },
  {
   "cell_type": "code",
   "execution_count": 12,
   "id": "647be0d9",
   "metadata": {},
   "outputs": [
    {
     "name": "stdout",
     "output_type": "stream",
     "text": [
      "messages=[TextMessage(id='714f62c3-d04b-4083-ba19-f7be07265189', source='user', models_usage=None, metadata={}, created_at=datetime.datetime(2025, 7, 5, 3, 25, 38, 211549, tzinfo=datetime.timezone.utc), content='Tell me something about you?', type='TextMessage'), TextMessage(id='c246edfa-aa4b-42fa-9b64-9ae6ab725224', source='my_assistant', models_usage=RequestUsage(prompt_tokens=42, completion_tokens=75), metadata={}, created_at=datetime.datetime(2025, 7, 5, 3, 25, 40, 380327, tzinfo=datetime.timezone.utc), content='I am an AI language model developed by OpenAI, designed to assist with a wide range of queries by providing information, answering questions, and helping with problem-solving. My training includes data up to October 2023, and I can perform tasks like summarizing text, providing explanations, and generating human-like text responses. Please let me know how I can assist you today!', type='TextMessage')] stop_reason=None\n"
     ]
    }
   ],
   "source": [
    "print(result)"
   ]
  },
  {
   "cell_type": "markdown",
   "id": "6c3e5a29",
   "metadata": {},
   "source": [
    "messages=[TextMessage(id='714f62c3-d04b-4083-ba19-f7be07265189', source='user', models_usage=None, metadata={}, created_at=datetime.datetime(2025, 7, 5, 3, 25, 38, 211549, tzinfo=datetime.timezone.utc), content='Tell me something about you?', type='TextMessage'), TextMessage(id='c246edfa-aa4b-42fa-9b64-9ae6ab725224', source='my_assistant', models_usage=RequestUsage(prompt_tokens=42, completion_tokens=75), metadata={}, created_at=datetime.datetime(2025, 7, 5, 3, 25, 40, 380327, tzinfo=datetime.timezone.utc), content='I am an AI language model developed by OpenAI, designed to assist with a wide range of queries by providing information, answering questions, and helping with problem-solving. My training includes data up to October 2023, and I can perform tasks like summarizing text, providing explanations, and generating human-like text responses. Please let me know how I can assist you today!', type='TextMessage')] stop_reason=None"
   ]
  },
  {
   "cell_type": "code",
   "execution_count": 13,
   "id": "484d9d3f",
   "metadata": {},
   "outputs": [],
   "source": [
    "result2 = await agent_1.run(task='What was my last question?')"
   ]
  },
  {
   "cell_type": "code",
   "execution_count": 14,
   "id": "b213a370",
   "metadata": {},
   "outputs": [
    {
     "data": {
      "text/plain": [
       "TaskResult(messages=[TextMessage(id='76d1e1aa-b951-46d2-9c60-ff1012276b25', source='user', models_usage=None, metadata={}, created_at=datetime.datetime(2025, 7, 5, 3, 27, 40, 688838, tzinfo=datetime.timezone.utc), content='What was my last question?', type='TextMessage'), TextMessage(id='5ea5301b-0980-47be-a864-a6ca7345aa70', source='my_assistant', models_usage=RequestUsage(prompt_tokens=132, completion_tokens=12), metadata={}, created_at=datetime.datetime(2025, 7, 5, 3, 27, 42, 61792, tzinfo=datetime.timezone.utc), content='Your last question was: \"Tell me something about you?\"', type='TextMessage')], stop_reason=None)"
      ]
     },
     "execution_count": 14,
     "metadata": {},
     "output_type": "execute_result"
    }
   ],
   "source": [
    "result2"
   ]
  },
  {
   "cell_type": "markdown",
   "id": "e6f63612",
   "metadata": {},
   "source": [
    "TaskResult(messages=[TextMessage(id='76d1e1aa-b951-46d2-9c60-ff1012276b25', source='user', models_usage=None, metadata={}, created_at=datetime.datetime(2025, 7, 5, 3, 27, 40, 688838, tzinfo=datetime.timezone.utc), content='What was my last question?', type='TextMessage'), TextMessage(id='5ea5301b-0980-47be-a864-a6ca7345aa70', source='my_assistant', models_usage=RequestUsage(prompt_tokens=132, completion_tokens=12), metadata={}, created_at=datetime.datetime(2025, 7, 5, 3, 27, 42, 61792, tzinfo=datetime.timezone.utc), content='Your last question was: \"Tell me something about you?\"', type='TextMessage')], stop_reason=None)"
   ]
  },
  {
   "cell_type": "code",
   "execution_count": null,
   "id": "bf6de196",
   "metadata": {},
   "outputs": [],
   "source": []
  }
 ],
 "metadata": {
  "kernelspec": {
   "display_name": "autogen-venv",
   "language": "python",
   "name": "python3"
  },
  "language_info": {
   "codemirror_mode": {
    "name": "ipython",
    "version": 3
   },
   "file_extension": ".py",
   "mimetype": "text/x-python",
   "name": "python",
   "nbconvert_exporter": "python",
   "pygments_lexer": "ipython3",
   "version": "3.12.9"
  }
 },
 "nbformat": 4,
 "nbformat_minor": 5
}

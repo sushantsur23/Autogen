{
 "cells": [
  {
   "cell_type": "markdown",
   "id": "a5854331",
   "metadata": {},
   "source": [
    "# Tools"
   ]
  },
  {
   "cell_type": "code",
   "execution_count": null,
   "id": "6d389606",
   "metadata": {},
   "outputs": [],
   "source": [
    "There are 3 types of Tools :\n",
    "\n",
    "1. Custom Functions\n",
    "2. Built In\n",
    "3. 3rd Party\n"
   ]
  },
  {
   "cell_type": "code",
   "execution_count": null,
   "id": "77165d49",
   "metadata": {},
   "outputs": [],
   "source": [
    "import asyncio\n",
    "from autogen_agentchat.agents import AssistantAgent\n",
    "from autogen_ext.models.openai import OpenAIChatCompletionClient\n",
    "from autogen_core.tools import FunctionTool\n",
    "import os\n",
    "from dotenv import load_dotenv\n",
    "\n",
    "# Load environment variables\n",
    "load_dotenv()\n",
    "api_key = os.getenv(\"OPENAI_API_KEY\")\n",
    "if not api_key:\n",
    "    raise ValueError(\"Please set the OPENAI_API_KEY environment variable.\")\n",
    "\n",
    "\n",
    "model_client=OpenAIChatCompletionClient(model='gpt-4o',api_key=api_key)\n",
    "\n",
    "def reverse_string(text: str) -> str:\n",
    "    '''\n",
    "    Reverse the given text\n",
    "\n",
    "    input:str\n",
    "\n",
    "    output:str\n",
    "\n",
    "    The reverse string is returned.\n",
    "    '''\n",
    "    return text[::-1]\n",
    "\n",
    "reverse_tool = FunctionTool(reverse_string,description='A tool to reverse a string')\n",
    "\n",
    "\n",
    "\n",
    "agent = AssistantAgent(\n",
    "    name=\"ReverseStringAgent\",\n",
    "    model_client= model_client,\n",
    "    system_message='You are a helpful assistant that can reverse string using reverse_string tool. Give the result with summary',\n",
    "    tools=[reverse_tool]\n",
    ")\n",
    "\n",
    "\n",
    "result = await agent.run(task = 'Reverse the string \"Hello, World!\"')"
   ]
  }
 ],
 "metadata": {
  "kernelspec": {
   "display_name": ".venv",
   "language": "python",
   "name": "python3"
  },
  "language_info": {
   "name": "python",
   "version": "3.12.9"
  }
 },
 "nbformat": 4,
 "nbformat_minor": 5
}

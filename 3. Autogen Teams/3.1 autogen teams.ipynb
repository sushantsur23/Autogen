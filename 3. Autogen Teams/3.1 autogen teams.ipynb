{
 "cells": [
  {
   "cell_type": "markdown",
   "id": "dc9495b8",
   "metadata": {},
   "source": [
    "# Agents in Team\n"
   ]
  },
  {
   "cell_type": "code",
   "execution_count": 1,
   "id": "0552d0f2",
   "metadata": {},
   "outputs": [],
   "source": [
    "import asyncio\n",
    "from autogen_ext.models.openai import OpenAIChatCompletionClient\n",
    "from dotenv import load_dotenv\n",
    "import os\n",
    "\n",
    "load_dotenv()\n",
    "api_key = os.getenv('OPENAI_API_KEY')\n",
    "model_client = OpenAIChatCompletionClient(model='gpt-4o', api_key=api_key)"
   ]
  },
  {
   "cell_type": "code",
   "execution_count": null,
   "id": "da6921bd",
   "metadata": {},
   "outputs": [],
   "source": [
    "from autogen_agentchat.agents import AssistantAgent\n",
    "\n",
    "dsa_solver = AssistantAgent(\n",
    "    name = 'Complex_DSA_Solver',\n",
    "    model_client=model_client,\n",
    "    description='A DSA solver',\n",
    "    system_message=\"You give code in python to solve complex DSA problems. Give under 100 words.\"\n",
    ")\n",
    "\n",
    "code_reviewer = AssistantAgent(\n",
    "    name = 'CODE_REVIEWER',\n",
    "    model_client=model_client,\n",
    "    description='A Code Reviewer',\n",
    "    system_message=\"You review the code given by the complex_dsa_solver and make sure it is optimized.Give under 10 words. If you feel that the code is fine, please say 'TERMINATE'\"\n",
    ")\n",
    "\n",
    "code_editor = AssistantAgent(\n",
    "    name = 'CODE_EDITOR',\n",
    "    model_client=model_client,\n",
    "    description='A Code editor',\n",
    "    system_message=\"You make the code easy to understand and add comments wherever required.Give under 10 words\"\n",
    ")\n"
   ]
  },
  {
   "cell_type": "code",
   "execution_count": 6,
   "id": "6f90b61f",
   "metadata": {},
   "outputs": [],
   "source": [
    "from autogen_agentchat.teams import RoundRobinGroupChat\n",
    "from autogen_agentchat.messages import TextMessage\n",
    "\n",
    "team = RoundRobinGroupChat(\n",
    "    participants=[dsa_solver, code_reviewer, code_editor],\n",
    "    max_turns=3   \n",
    ")\n",
    "\n"
   ]
  },
  {
   "cell_type": "code",
   "execution_count": 7,
   "id": "c395e931",
   "metadata": {},
   "outputs": [
    {
     "name": "stdout",
     "output_type": "stream",
     "text": [
      "messages=[TextMessage(id='51a905cc-5572-43dd-98c3-53c2eed24b16', source='user', models_usage=None, metadata={}, created_at=datetime.datetime(2025, 7, 12, 4, 40, 29, 124963, tzinfo=datetime.timezone.utc), content='write a simple code in python to add 2 numbers', type='TextMessage'), TextMessage(id='74116932-f287-43fe-a188-30a9992823b7', source='Complex_DSA_Solver', models_usage=RequestUsage(prompt_tokens=40, completion_tokens=107), metadata={}, created_at=datetime.datetime(2025, 7, 12, 4, 40, 32, 949516, tzinfo=datetime.timezone.utc), content='Certainly! Here is a simple Python code to add two numbers:\\n\\n```python\\n# Function to add two numbers\\ndef add_numbers(num1, num2):\\n    return num1 + num2\\n\\n# Example usage\\nnumber1 = 5\\nnumber2 = 3\\nresult = add_numbers(number1, number2)\\n\\nprint(\"The sum is:\", result)\\n```\\n\\nThis code defines a function `add_numbers` that takes two parameters and returns their sum. It then calls this function with example numbers and prints the result.', type='TextMessage'), TextMessage(id='de6bf520-13d7-46c0-898d-249d9614dd73', source='CODE_REVIEWER', models_usage=RequestUsage(prompt_tokens=163, completion_tokens=11), metadata={}, created_at=datetime.datetime(2025, 7, 12, 4, 40, 34, 347278, tzinfo=datetime.timezone.utc), content='Simplify code; directly add variables without a function.', type='TextMessage'), TextMessage(id='442cf157-9213-4f83-9077-4b0c1ff2896a', source='CODE_EDITOR', models_usage=RequestUsage(prompt_tokens=178, completion_tokens=66), metadata={}, created_at=datetime.datetime(2025, 7, 12, 4, 40, 36, 402981, tzinfo=datetime.timezone.utc), content='Sure! Here\\'s a simplified version:\\n\\n```python\\n# Define two numbers\\nnumber1 = 5\\nnumber2 = 3\\n\\n# Add the numbers\\nresult = number1 + number2\\n\\n# Print the result\\nprint(\"The sum is:\", result)\\n```\\n\\nThis is straightforward, directly adding and printing the result.', type='TextMessage')] stop_reason='Maximum number of turns 3 reached.'\n"
     ]
    }
   ],
   "source": [
    "async def run_team():\n",
    "    task = TextMessage(content='write a simple code in python to add 2 numbers',source='user')\n",
    "\n",
    "    result = await team.run(task=task)\n",
    "\n",
    "\n",
    "    print(result)\n",
    "\n",
    "await run_team()"
   ]
  },
  {
   "cell_type": "code",
   "execution_count": null,
   "id": "e6e8e8dd",
   "metadata": {},
   "outputs": [],
   "source": [
    "messages=[\n",
    "    \n",
    "    TextMessage(id='51a905cc-5572-43dd-98c3-53c2eed24b16', source='user', models_usage=None, metadata={}, created_at=datetime.datetime(2025, 7, 12, 4, 40, 29, 124963, tzinfo=datetime.timezone.utc), content='write a simple code in python to add 2 numbers', type='TextMessage'), \n",
    "    \n",
    "    \n",
    "    TextMessage(id='74116932-f287-43fe-a188-30a9992823b7', source='Complex_DSA_Solver', models_usage=RequestUsage(prompt_tokens=40, completion_tokens=107), metadata={}, created_at=datetime.datetime(2025, 7, 12, 4, 40, 32, 949516, tzinfo=datetime.timezone.utc), content='Certainly! Here is a simple Python code to add two numbers:\\n\\n```python\\n# Function to add two numbers\\ndef add_numbers(num1, num2):\\n    return num1 + num2\\n\\n# Example usage\\nnumber1 = 5\\nnumber2 = 3\\nresult = add_numbers(number1, number2)\\n\\nprint(\"The sum is:\", result)\\n```\\n\\nThis code defines a function `add_numbers` that takes two parameters and returns their sum. It then calls this function with example numbers and prints the result.', type='TextMessage'), \n",
    "    \n",
    "    \n",
    "    TextMessage(id='de6bf520-13d7-46c0-898d-249d9614dd73', source='CODE_REVIEWER', models_usage=RequestUsage(prompt_tokens=163, completion_tokens=11), metadata={}, created_at=datetime.datetime(2025, 7, 12, 4, 40, 34, 347278, tzinfo=datetime.timezone.utc), content='Simplify code; directly add variables without a function.', type='TextMessage'), \n",
    "    \n",
    "    \n",
    "    \n",
    "    TextMessage(id='442cf157-9213-4f83-9077-4b0c1ff2896a', source='CODE_EDITOR', models_usage=RequestUsage(prompt_tokens=178, completion_tokens=66), metadata={}, created_at=datetime.datetime(2025, 7, 12, 4, 40, 36, 402981, tzinfo=datetime.timezone.utc), content='Sure! Here\\'s a simplified version:\\n\\n```python\\n# Define two numbers\\nnumber1 = 5\\nnumber2 = 3\\n\\n# Add the numbers\\nresult = number1 + number2\\n\\n# Print the result\\nprint(\"The sum is:\", result)\\n```\\n\\nThis is straightforward, directly adding and printing the result.', type='TextMessage')] \n",
    "    \n",
    "    \n",
    "    \n",
    "    stop_reason='Maximum number of turns 3 reached.'"
   ]
  },
  {
   "cell_type": "code",
   "execution_count": 8,
   "id": "cdfcce9d",
   "metadata": {},
   "outputs": [
    {
     "name": "stdout",
     "output_type": "stream",
     "text": [
      "messages=[TextMessage(id='15328376-2a2b-4375-8e18-b31afd6cc8ca', source='user', models_usage=None, metadata={}, created_at=datetime.datetime(2025, 7, 12, 4, 46, 49, 990748, tzinfo=datetime.timezone.utc), content='write a simple code in python to add 2 numbers', type='TextMessage'), TextMessage(id='af44b30c-ea76-46db-a20d-acf74f379aee', source='Complex_DSA_Solver', models_usage=RequestUsage(prompt_tokens=167, completion_tokens=92), metadata={}, created_at=datetime.datetime(2025, 7, 12, 4, 46, 51, 883189, tzinfo=datetime.timezone.utc), content='Sure! Here is a simple Python code to add two numbers:\\n\\n```python\\n# Input two numbers\\nnum1 = float(input(\"Enter first number: \"))\\nnum2 = float(input(\"Enter second number: \"))\\n\\n# Calculate the sum\\nsum = num1 + num2\\n\\n# Print the result\\nprint(\"The sum is:\", sum)\\n```\\n\\nThis code takes two numbers as input from the user, calculates their sum, and prints the result.', type='TextMessage')] stop_reason='Maximum number of turns 1 reached.'\n"
     ]
    }
   ],
   "source": [
    "from autogen_agentchat.teams import RoundRobinGroupChat\n",
    "from autogen_agentchat.messages import TextMessage\n",
    "\n",
    "team = RoundRobinGroupChat(\n",
    "    participants=[dsa_solver, code_reviewer, code_editor],\n",
    "    max_turns=1   \n",
    ")\n",
    "\n",
    "\n",
    "async def run_team():\n",
    "    task = TextMessage(content='write a simple code in python to add 2 numbers',source='user')\n",
    "\n",
    "    result = await team.run(task=task)\n",
    "\n",
    "\n",
    "    print(result)\n",
    "\n",
    "await run_team()\n"
   ]
  },
  {
   "cell_type": "code",
   "execution_count": null,
   "id": "5ef347db",
   "metadata": {},
   "outputs": [],
   "source": [
    "messages=[\n",
    "    \n",
    "    \n",
    "    TextMessage(id='15328376-2a2b-4375-8e18-b31afd6cc8ca', source='user', models_usage=None, metadata={}, created_at=datetime.datetime(2025, 7, 12, 4, 46, 49, 990748, tzinfo=datetime.timezone.utc), content='write a simple code in python to add 2 numbers', type='TextMessage'), \n",
    "          \n",
    "    1 .TextMessage(id='af44b30c-ea76-46db-a20d-acf74f379aee', source='Complex_DSA_Solver', models_usage=RequestUsage(prompt_tokens=167, completion_tokens=92), metadata={}, created_at=datetime.datetime(2025, 7, 12, 4, 46, 51, 883189, tzinfo=datetime.timezone.utc), content='Sure! Here is a simple Python code to add two numbers:\\n\\n```python\\n# Input two numbers\\nnum1 = float(input(\"Enter first number: \"))\\nnum2 = float(input(\"Enter second number: \"))\\n\\n# Calculate the sum\\nsum = num1 + num2\\n\\n# Print the result\\nprint(\"The sum is:\", sum)\\n```\\n\\nThis code takes two numbers as input from the user, calculates their sum, and prints the result.', type='TextMessage')\n",
    "    \n",
    "          ] stop_reason='Maximum number of turns 1 reached.'"
   ]
  },
  {
   "cell_type": "code",
   "execution_count": 9,
   "id": "f39b93d3",
   "metadata": {},
   "outputs": [
    {
     "name": "stdout",
     "output_type": "stream",
     "text": [
      "messages=[TextMessage(id='d24509ac-1a54-407f-9a29-90e72c2d89e7', source='user', models_usage=None, metadata={}, created_at=datetime.datetime(2025, 7, 12, 4, 48, 30, 725154, tzinfo=datetime.timezone.utc), content='write a simple code in python to add 2 numbers', type='TextMessage'), TextMessage(id='6c524b7e-7d40-4954-9d1f-8988befa9902', source='Complex_DSA_Solver', models_usage=RequestUsage(prompt_tokens=279, completion_tokens=76), metadata={}, created_at=datetime.datetime(2025, 7, 12, 4, 48, 32, 224395, tzinfo=datetime.timezone.utc), content='Certainly! Here is a straightforward Python code to add two numbers:\\n\\n```python\\n# Define two numbers\\nnum1 = 10\\nnum2 = 15\\n\\n# Calculate the sum\\nsum = num1 + num2\\n\\n# Print the result\\nprint(\"The sum is:\", sum)\\n```\\n\\nThis script defines two numbers, calculates their sum, and prints the result.', type='TextMessage'), TextMessage(id='42af9a71-3f69-40d9-be0a-3975c62c6759', source='CODE_REVIEWER', models_usage=RequestUsage(prompt_tokens=280, completion_tokens=15), metadata={}, created_at=datetime.datetime(2025, 7, 12, 4, 48, 33, 363036, tzinfo=datetime.timezone.utc), content='Directly print the sum: `print(num1 + num2)`.', type='TextMessage'), TextMessage(id='ba70f62d-cd20-456e-8c6e-45131fcd8322', source='CODE_EDITOR', models_usage=RequestUsage(prompt_tokens=374, completion_tokens=60), metadata={}, created_at=datetime.datetime(2025, 7, 12, 4, 48, 36, 218566, tzinfo=datetime.timezone.utc), content='Certainly! Here\\'s an even simpler version:\\n\\n```python\\n# Define two numbers\\nnum1 = 10\\nnum2 = 15\\n\\n# Directly print the sum\\nprint(\"The sum is:\", num1 + num2)\\n```\\n\\nThis version directly prints the sum of the two numbers.', type='TextMessage'), TextMessage(id='be7b5772-b79f-480c-b142-bda95c3aae5c', source='Complex_DSA_Solver', models_usage=RequestUsage(prompt_tokens=450, completion_tokens=59), metadata={}, created_at=datetime.datetime(2025, 7, 12, 4, 48, 37, 631782, tzinfo=datetime.timezone.utc), content=\"Great suggestion! Here's the revised code with direct printing:\\n\\n```python\\n# Define two numbers\\nnum1 = 10\\nnum2 = 15\\n\\n# Directly print the sum\\nprint(num1 + num2)\\n```\\n\\nThis code eliminates the intermediate variable and prints the sum directly.\", type='TextMessage'), TextMessage(id='25f541bc-39a6-468e-be9b-c5967a1c999b', source='CODE_REVIEWER', models_usage=RequestUsage(prompt_tokens=435, completion_tokens=16), metadata={}, created_at=datetime.datetime(2025, 7, 12, 4, 48, 38, 834616, tzinfo=datetime.timezone.utc), content='Eliminate comments; directly print: `print(10 + 15)`.', type='TextMessage'), TextMessage(id='11f799c8-ae0e-4803-9851-af173929bca6', source='CODE_EDITOR', models_usage=RequestUsage(prompt_tokens=532, completion_tokens=36), metadata={}, created_at=datetime.datetime(2025, 7, 12, 4, 48, 40, 433738, tzinfo=datetime.timezone.utc), content=\"Sure! Here's the simplest version:\\n\\n```python\\nprint(10 + 15)\\n```\\n\\nThis directly prints the sum of 10 and 15 without additional variables or comments.\", type='TextMessage')] stop_reason='Maximum number of turns 6 reached.'\n"
     ]
    }
   ],
   "source": [
    "from autogen_agentchat.teams import RoundRobinGroupChat\n",
    "from autogen_agentchat.messages import TextMessage\n",
    "\n",
    "team = RoundRobinGroupChat(\n",
    "    participants=[dsa_solver, code_reviewer, code_editor],\n",
    "    max_turns=6  \n",
    ")\n",
    "\n",
    "\n",
    "async def run_team():\n",
    "    task = TextMessage(content='write a simple code in python to add 2 numbers',source='user')\n",
    "\n",
    "    result = await team.run(task=task)\n",
    "\n",
    "\n",
    "    print(result)\n",
    "\n",
    "await run_team()\n"
   ]
  },
  {
   "cell_type": "code",
   "execution_count": null,
   "id": "3c6a964e",
   "metadata": {},
   "outputs": [],
   "source": [
    "messages=[\n",
    "    \n",
    "    TextMessage(id='d24509ac-1a54-407f-9a29-90e72c2d89e7', source='user', models_usage=None, metadata={}, created_at=datetime.datetime(2025, 7, 12, 4, 48, 30, 725154, tzinfo=datetime.timezone.utc), content='write a simple code in python to add 2 numbers', type='TextMessage'), \n",
    "    \n",
    "   1.  TextMessage(id='6c524b7e-7d40-4954-9d1f-8988befa9902', source='Complex_DSA_Solver', models_usage=RequestUsage(prompt_tokens=279, completion_tokens=76), metadata={}, created_at=datetime.datetime(2025, 7, 12, 4, 48, 32, 224395, tzinfo=datetime.timezone.utc), content='Certainly! Here is a straightforward Python code to add two numbers:\\n\\n```python\\n# Define two numbers\\nnum1 = 10\\nnum2 = 15\\n\\n# Calculate the sum\\nsum = num1 + num2\\n\\n# Print the result\\nprint(\"The sum is:\", sum)\\n```\\n\\nThis script defines two numbers, calculates their sum, and prints the result.', type='TextMessage'), \n",
    "    \n",
    "    \n",
    "    2. TextMessage(id='42af9a71-3f69-40d9-be0a-3975c62c6759', source='CODE_REVIEWER', models_usage=RequestUsage(prompt_tokens=280, completion_tokens=15), metadata={}, created_at=datetime.datetime(2025, 7, 12, 4, 48, 33, 363036, tzinfo=datetime.timezone.utc), content='Directly print the sum: `print(num1 + num2)`.', type='TextMessage'), \n",
    "    \n",
    "    \n",
    "    3. TextMessage(id='ba70f62d-cd20-456e-8c6e-45131fcd8322', source='CODE_EDITOR', models_usage=RequestUsage(prompt_tokens=374, completion_tokens=60), metadata={}, created_at=datetime.datetime(2025, 7, 12, 4, 48, 36, 218566, tzinfo=datetime.timezone.utc), content='Certainly! Here\\'s an even simpler version:\\n\\n```python\\n# Define two numbers\\nnum1 = 10\\nnum2 = 15\\n\\n# Directly print the sum\\nprint(\"The sum is:\", num1 + num2)\\n```\\n\\nThis version directly prints the sum of the two numbers.', type='TextMessage'), \n",
    "    \n",
    "    \n",
    "    4. TextMessage(id='be7b5772-b79f-480c-b142-bda95c3aae5c', source='Complex_DSA_Solver', models_usage=RequestUsage(prompt_tokens=450, completion_tokens=59), metadata={}, created_at=datetime.datetime(2025, 7, 12, 4, 48, 37, 631782, tzinfo=datetime.timezone.utc), content=\"Great suggestion! Here's the revised code with direct printing:\\n\\n```python\\n# Define two numbers\\nnum1 = 10\\nnum2 = 15\\n\\n# Directly print the sum\\nprint(num1 + num2)\\n```\\n\\nThis code eliminates the intermediate variable and prints the sum directly.\", type='TextMessage'), \n",
    "    \n",
    "    \n",
    "    5. TextMessage(id='25f541bc-39a6-468e-be9b-c5967a1c999b', source='CODE_REVIEWER', models_usage=RequestUsage(prompt_tokens=435, completion_tokens=16), metadata={}, created_at=datetime.datetime(2025, 7, 12, 4, 48, 38, 834616, tzinfo=datetime.timezone.utc), content='Eliminate comments; directly print: `print(10 + 15)`.', type='TextMessage'), \n",
    "    \n",
    "    \n",
    "    \n",
    "    \n",
    "    6. TextMessage(id='11f799c8-ae0e-4803-9851-af173929bca6', source='CODE_EDITOR', models_usage=RequestUsage(prompt_tokens=532, completion_tokens=36), metadata={}, created_at=datetime.datetime(2025, 7, 12, 4, 48, 40, 433738, tzinfo=datetime.timezone.utc), content=\"Sure! Here's the simplest version:\\n\\n```python\\nprint(10 + 15)\\n```\\n\\nThis directly prints the sum of 10 and 15 without additional variables or comments.\", type='TextMessage')] \n",
    "\n",
    "\n",
    "stop_reason='Maximum number of turns 6 reached.'"
   ]
  },
  {
   "cell_type": "code",
   "execution_count": 14,
   "id": "5baa587c",
   "metadata": {},
   "outputs": [
    {
     "name": "stdout",
     "output_type": "stream",
     "text": [
      "user : write a simple code in python to add 2 numbers\n",
      "Complex_DSA_Solver : Certainly! Here’s a simple Python code to add two numbers using user input:\n",
      "\n",
      "```python\n",
      "# Input two numbers from the user\n",
      "num1 = float(input(\"Enter the first number: \"))\n",
      "num2 = float(input(\"Enter the second number: \"))\n",
      "\n",
      "# Print the sum\n",
      "print(\"The sum is:\", num1 + num2)\n",
      "```\n",
      "\n",
      "This code allows you to enter two numbers, computes their sum, and displays the result.\n",
      "CODE_REVIEWER : Direct: `print(float(input()) + float(input()))`.\n",
      "CODE_EDITOR : Sure! Here's the direct version:\n",
      "\n",
      "```python\n",
      "print(float(input()) + float(input()))\n",
      "```\n",
      "\n",
      "This line takes two inputs and immediately prints their sum.\n",
      "Complex_DSA_Solver : Sure! Here's the direct approach:\n",
      "\n",
      "```python\n",
      "print(float(input()) + float(input()))\n",
      "```\n",
      "\n",
      "This line takes two numbers as input and directly prints their sum.\n",
      "CODE_REVIEWER : Directly sums two inputs efficiently.\n",
      "CODE_EDITOR : Exactly, it offers immediate calculation and output.\n",
      "Complex_DSA_Solver : Exactly, it provides immediate calculation and output efficiently.\n",
      "CODE_REVIEWER : Instant, efficient calculation and output.\n",
      "CODE_EDITOR : Precisely, for quick and straightforward results.\n",
      "Complex_DSA_Solver : Precisely, it ensures quick and straightforward results.\n",
      "CODE_REVIEWER : Optimal for rapid, straightforward calculations.\n",
      "CODE_EDITOR : Absolutely, designed for swift and uncomplicated use.\n",
      "Complex_DSA_Solver : Absolutely, it's designed for swift and straightforward use.\n",
      "CODE_REVIEWER : Ideal for quick, seamless user experience.\n"
     ]
    }
   ],
   "source": [
    "from autogen_agentchat.teams import RoundRobinGroupChat\n",
    "from autogen_agentchat.messages import TextMessage\n",
    "from autogen_agentchat.conditions import TextMentionTermination\n",
    "\n",
    "\n",
    "my_termination = TextMentionTermination(text='TERMINATE')\n",
    "\n",
    "team = RoundRobinGroupChat(\n",
    "    participants=[dsa_solver, code_reviewer, code_editor],\n",
    "    termination_condition=my_termination,\n",
    "    max_turns=14  \n",
    ")\n",
    "\n",
    "\n",
    "async def run_team():\n",
    "    task = TextMessage(content='write a simple code in python to add 2 numbers',source='user')\n",
    "\n",
    "    result = await team.run(task=task)\n",
    "\n",
    "    for each_agent_message in result.messages:\n",
    "        print(f\"{each_agent_message.source} : {each_agent_message.content}\")\n",
    "\n",
    "\n",
    "    # print(result)\n",
    "\n",
    "await run_team()\n"
   ]
  },
  {
   "cell_type": "code",
   "execution_count": 22,
   "id": "014c4d18",
   "metadata": {},
   "outputs": [
    {
     "name": "stdout",
     "output_type": "stream",
     "text": [
      "user : write a code to find median of two sorted arrays\n",
      "Complex_DSA_Solver : ```python\n",
      "def findMedianSortedArrays(nums1, nums2):\n",
      "    nums = sorted(nums1 + nums2)\n",
      "    n = len(nums)\n",
      "    if n % 2 == 0:\n",
      "        return (nums[n//2 - 1] + nums[n//2]) / 2\n",
      "    else:\n",
      "        return nums[n//2]\n",
      "\n",
      "# Example usage:\n",
      "nums1 = [1, 3]\n",
      "nums2 = [2]\n",
      "print(findMedianSortedArrays(nums1, nums2))  # Output: 2.0\n",
      "```\n",
      "\n",
      "This function merges two sorted arrays and finds the median.\n",
      "CODE_REVIEWER : Optimize by using binary search approach.\n",
      "CODE_EDITOR : ```python\n",
      "def findMedianSortedArrays(nums1, nums2):\n",
      "    # Ensure nums1 is the smaller array\n",
      "    if len(nums1) > len(nums2):\n",
      "        nums1, nums2 = nums2, nums1\n",
      "\n",
      "    x, y = len(nums1), len(nums2)\n",
      "    low, high = 0, x\n",
      "\n",
      "    # Apply binary search on the smaller array\n",
      "    while low <= high:\n",
      "        partitionX = (low + high) // 2\n",
      "        partitionY = (x + y + 1) // 2 - partitionX\n",
      "\n",
      "        # Get max and min from partitions\n",
      "        maxX = float('-inf') if partitionX == 0 else nums1[partitionX - 1]\n",
      "        minX = float('inf') if partitionX == x else nums1[partitionX]\n",
      "        \n",
      "        maxY = float('-inf') if partitionY == 0 else nums2[partitionY - 1]\n",
      "        minY = float('inf') if partitionY == y else nums2[partitionY]\n",
      "\n",
      "        # Check partitions correctness\n",
      "        if maxX <= minY and maxY <= minX:\n",
      "            # Found correct partition, calculate median\n",
      "            if (x + y) % 2 == 0:\n",
      "                return (max(maxX, maxY) + min(minX, minY)) / 2\n",
      "            else:\n",
      "                return max(maxX, maxY)\n",
      "\n",
      "        elif maxX > minY:\n",
      "            # Shift search to left in nums1\n",
      "            high = partitionX - 1\n",
      "        else:\n",
      "            # Shift search to right in nums1\n",
      "            low = partitionX + 1\n",
      "\n",
      "# Example usage:\n",
      "nums1 = [1, 3]\n",
      "nums2 = [2]\n",
      "print(findMedianSortedArrays(nums1, nums2))  # Output: 2.0\n",
      "```\n",
      "\n",
      "This code finds median using binary search on one array.\n",
      "Complex_DSA_Solver : This optimized solution leverages a binary search strategy to achieve a more efficient time complexity when finding the median of two sorted arrays. By ensuring binary search only runs on the smaller array, it reduces unnecessary computational steps. This approach effectively maintains logarithmic time complexity, which is crucial for handling larger datasets efficiently.\n",
      "CODE_REVIEWER : TERMINATE\n"
     ]
    }
   ],
   "source": [
    "from autogen_agentchat.teams import RoundRobinGroupChat\n",
    "from autogen_agentchat.messages import TextMessage\n",
    "from autogen_agentchat.conditions import TextMentionTermination,MaxMessageTermination\n",
    "\n",
    "\n",
    "my_termination = TextMentionTermination(text='TERMINATE') \n",
    "\n",
    "team = RoundRobinGroupChat(\n",
    "    participants=[dsa_solver, code_reviewer, code_editor],\n",
    "    termination_condition=my_termination,\n",
    "    max_turns=6\n",
    ")\n",
    "\n",
    "\n",
    "async def run_team():\n",
    "    task = TextMessage(content='write a code to find median of two sorted arrays',source='user')\n",
    "\n",
    "    result = await team.run(task=task)\n",
    "\n",
    "    for each_agent_message in result.messages:\n",
    "        print(f\"{each_agent_message.source} : {each_agent_message.content}\")\n",
    "\n",
    "\n",
    "    # print(result)\n",
    "\n",
    "await run_team()\n"
   ]
  },
  {
   "cell_type": "code",
   "execution_count": 25,
   "id": "465ff374",
   "metadata": {},
   "outputs": [
    {
     "data": {
      "text/plain": [
       "<coroutine object BaseGroupChat.reset at 0x122032110>"
      ]
     },
     "execution_count": 25,
     "metadata": {},
     "output_type": "execute_result"
    }
   ],
   "source": [
    "team.reset()"
   ]
  },
  {
   "cell_type": "code",
   "execution_count": null,
   "id": "8ee30b50",
   "metadata": {},
   "outputs": [
    {
     "name": "stdout",
     "output_type": "stream",
     "text": [
      "<class 'autogen_agentchat.messages.TextMessage'>\n",
      "user id='b31b2147-c690-4007-a20e-98d3a1c4b926' source='user' models_usage=None metadata={} created_at=datetime.datetime(2025, 7, 12, 5, 22, 40, 712075, tzinfo=datetime.timezone.utc) content='Write a simple Hello world code ?' type='TextMessage'\n",
      "<class 'autogen_agentchat.messages.TextMessage'>\n",
      "Complex_DSA_Solver id='934800f0-5e8f-414d-b0bd-c892b11d8928' source='Complex_DSA_Solver' models_usage=RequestUsage(prompt_tokens=1013, completion_tokens=31) metadata={} created_at=datetime.datetime(2025, 7, 12, 5, 22, 41, 713555, tzinfo=datetime.timezone.utc) content='```python\\nprint(\"Hello, world!\")\\n```\\n\\nThis Python code prints \"Hello, world!\" to the console, a traditional first program for beginners.' type='TextMessage'\n",
      "<class 'autogen_agentchat.messages.TextMessage'>\n",
      "CODE_REVIEWER id='e3de8508-4793-43b3-9fc7-9969f1bcbb91' source='CODE_REVIEWER' models_usage=RequestUsage(prompt_tokens=1119, completion_tokens=3) metadata={} created_at=datetime.datetime(2025, 7, 12, 5, 22, 42, 538090, tzinfo=datetime.timezone.utc) content='TERMINATE' type='TextMessage'\n",
      "<class 'autogen_agentchat.base._task.TaskResult'>\n",
      "Stop Reason: Text 'TERMINATE' mentioned\n"
     ]
    }
   ],
   "source": [
    "from autogen_agentchat.base import TaskResult\n",
    "\n",
    "\n",
    "team_2 = RoundRobinGroupChat(\n",
    "    participants=[dsa_solver, code_reviewer, code_editor],\n",
    "    termination_condition=my_termination,\n",
    "    max_turns=6\n",
    ")\n",
    "\n",
    "\n",
    "async for message in team_2.run_stream(task=\"Write a simple Hello world code ?\"):  # type: ignore\n",
    "\n",
    "    print(type(message))\n",
    "    if isinstance(message, TaskResult):\n",
    "        print(\"Stop Reason:\", message.stop_reason)\n",
    "    else:\n",
    "        print(message.source,message)\n",
    "\n",
    "    "
   ]
  },
  {
   "cell_type": "code",
   "execution_count": null,
   "id": "0df14a60",
   "metadata": {},
   "outputs": [
    {
     "ename": "NameError",
     "evalue": "name 'messages' is not defined",
     "output_type": "error",
     "traceback": [
      "\u001b[31m---------------------------------------------------------------------------\u001b[39m",
      "\u001b[31mNameError\u001b[39m                                 Traceback (most recent call last)",
      "\u001b[36mCell\u001b[39m\u001b[36m \u001b[39m\u001b[32mIn[28]\u001b[39m\u001b[32m, line 1\u001b[39m\n\u001b[32m----> \u001b[39m\u001b[32m1\u001b[39m \u001b[38;5;28mprint\u001b[39m(\u001b[43mmessages\u001b[49m)\n",
      "\u001b[31mNameError\u001b[39m: name 'messages' is not defined"
     ]
    }
   ],
   "source": []
  },
  {
   "cell_type": "code",
   "execution_count": null,
   "id": "cb2d83e4",
   "metadata": {},
   "outputs": [],
   "source": []
  },
  {
   "cell_type": "code",
   "execution_count": null,
   "id": "026a2481",
   "metadata": {},
   "outputs": [
    {
     "name": "stdout",
     "output_type": "stream",
     "text": [
      "user : write a code to add 2 numbers. TERMINATE\n"
     ]
    }
   ],
   "source": [
    "from autogen_agentchat.teams import RoundRobinGroupChat\n",
    "from autogen_agentchat.messages import TextMessage\n",
    "from autogen_agentchat.conditions import TextMentionTermination,MaxMessageTermination\n",
    "\n",
    "\n",
    "my_termination = TextMentionTermination(text='RUKJA')  | MaxMessageTermination(max_messages=2)\n",
    "\n",
    "team = RoundRobinGroupChat(\n",
    "    participants=[dsa_solver, code_reviewer, code_editor],\n",
    "    termination_condition=my_termination,\n",
    ")\n",
    "\n",
    "\n",
    "async def run_team():\n",
    "    task = TextMessage(content='write a code to add 2 numbers. TERMINATE',source='user')\n",
    "\n",
    "    result = await team.run(task=task)\n",
    "\n",
    "    for each_agent_message in result.messages:\n",
    "        print(f\"{each_agent_message.source} : {each_agent_message.content}\")\n",
    "\n",
    "\n",
    "    # print(result)\n",
    "\n",
    "await run_team()\n"
   ]
  },
  {
   "cell_type": "code",
   "execution_count": 37,
   "id": "842ea6f4",
   "metadata": {},
   "outputs": [],
   "source": [
    "state = await team.save_state()"
   ]
  },
  {
   "cell_type": "code",
   "execution_count": 38,
   "id": "ae19b5ab",
   "metadata": {},
   "outputs": [
    {
     "data": {
      "text/plain": [
       "{'type': 'TeamState',\n",
       " 'version': '1.0.0',\n",
       " 'agent_states': {'Complex_DSA_Solver': {'type': 'ChatAgentContainerState',\n",
       "   'version': '1.0.0',\n",
       "   'agent_state': {'type': 'AssistantAgentState',\n",
       "    'version': '1.0.0',\n",
       "    'llm_context': {'messages': [{'content': 'write a code to find median of two sorted arrays',\n",
       "       'source': 'user',\n",
       "       'type': 'UserMessage'},\n",
       "      {'content': '```python\\ndef findMedianSortedArrays(nums1, nums2):\\n    nums = sorted(nums1 + nums2)\\n    n = len(nums)\\n    if n % 2 == 0:\\n        return (nums[n//2 - 1] + nums[n//2]) / 2\\n    else:\\n        return nums[n//2]\\n\\n# Example usage:\\nnums1 = [1, 3]\\nnums2 = [2]\\nprint(findMedianSortedArrays(nums1, nums2))  # Output: 2.0\\n```\\n\\nThis function merges two sorted arrays and finds the median.',\n",
       "       'thought': None,\n",
       "       'source': 'Complex_DSA_Solver',\n",
       "       'type': 'AssistantMessage'},\n",
       "      {'content': 'Optimize by using binary search approach.',\n",
       "       'source': 'CODE_REVIEWER',\n",
       "       'type': 'UserMessage'},\n",
       "      {'content': \"```python\\ndef findMedianSortedArrays(nums1, nums2):\\n    # Ensure nums1 is the smaller array\\n    if len(nums1) > len(nums2):\\n        nums1, nums2 = nums2, nums1\\n\\n    x, y = len(nums1), len(nums2)\\n    low, high = 0, x\\n\\n    # Apply binary search on the smaller array\\n    while low <= high:\\n        partitionX = (low + high) // 2\\n        partitionY = (x + y + 1) // 2 - partitionX\\n\\n        # Get max and min from partitions\\n        maxX = float('-inf') if partitionX == 0 else nums1[partitionX - 1]\\n        minX = float('inf') if partitionX == x else nums1[partitionX]\\n        \\n        maxY = float('-inf') if partitionY == 0 else nums2[partitionY - 1]\\n        minY = float('inf') if partitionY == y else nums2[partitionY]\\n\\n        # Check partitions correctness\\n        if maxX <= minY and maxY <= minX:\\n            # Found correct partition, calculate median\\n            if (x + y) % 2 == 0:\\n                return (max(maxX, maxY) + min(minX, minY)) / 2\\n            else:\\n                return max(maxX, maxY)\\n\\n        elif maxX > minY:\\n            # Shift search to left in nums1\\n            high = partitionX - 1\\n        else:\\n            # Shift search to right in nums1\\n            low = partitionX + 1\\n\\n# Example usage:\\nnums1 = [1, 3]\\nnums2 = [2]\\nprint(findMedianSortedArrays(nums1, nums2))  # Output: 2.0\\n```\\n\\nThis code finds median using binary search on one array.\",\n",
       "       'source': 'CODE_EDITOR',\n",
       "       'type': 'UserMessage'},\n",
       "      {'content': 'This optimized solution leverages a binary search strategy to achieve a more efficient time complexity when finding the median of two sorted arrays. By ensuring binary search only runs on the smaller array, it reduces unnecessary computational steps. This approach effectively maintains logarithmic time complexity, which is crucial for handling larger datasets efficiently.',\n",
       "       'thought': None,\n",
       "       'source': 'Complex_DSA_Solver',\n",
       "       'type': 'AssistantMessage'},\n",
       "      {'content': 'TERMINATE',\n",
       "       'source': 'CODE_REVIEWER',\n",
       "       'type': 'UserMessage'},\n",
       "      {'content': 'Write a simple Hello world code ?',\n",
       "       'source': 'user',\n",
       "       'type': 'UserMessage'},\n",
       "      {'content': '```python\\nprint(\"Hello, world!\")\\n```\\n\\nA basic Python code to print \"Hello, world!\".',\n",
       "       'source': 'CODE_EDITOR',\n",
       "       'type': 'UserMessage'},\n",
       "      {'content': 'This simple Python script uses the `print` function to display the message \"Hello, world!\" on the screen, demonstrating a classic introductory example for beginners.',\n",
       "       'thought': None,\n",
       "       'source': 'Complex_DSA_Solver',\n",
       "       'type': 'AssistantMessage'},\n",
       "      {'content': 'TERMINATE',\n",
       "       'source': 'CODE_REVIEWER',\n",
       "       'type': 'UserMessage'},\n",
       "      {'content': 'Write a simple Hello world code ?',\n",
       "       'source': 'user',\n",
       "       'type': 'UserMessage'},\n",
       "      {'content': '```python\\nprint(\"Hello, world!\")\\n```\\n\\nPrints \"Hello, world!\" in Python.',\n",
       "       'source': 'CODE_EDITOR',\n",
       "       'type': 'UserMessage'},\n",
       "      {'content': 'This Python script uses the `print` function to output the message \"Hello, world!\", making it a classic starting point for learning programming basics.',\n",
       "       'thought': None,\n",
       "       'source': 'Complex_DSA_Solver',\n",
       "       'type': 'AssistantMessage'},\n",
       "      {'content': 'TERMINATE',\n",
       "       'source': 'CODE_REVIEWER',\n",
       "       'type': 'UserMessage'},\n",
       "      {'content': 'Write a simple Hello world code ?',\n",
       "       'source': 'user',\n",
       "       'type': 'UserMessage'},\n",
       "      {'content': '```python\\nprint(\"Hello, world!\")\\n```\\n\\nPrints \"Hello, world!\" to console.',\n",
       "       'source': 'CODE_EDITOR',\n",
       "       'type': 'UserMessage'},\n",
       "      {'content': 'This code snippet executes the `print` function to output \"Hello, world!\" in Python, a traditional first program for beginners.',\n",
       "       'thought': None,\n",
       "       'source': 'Complex_DSA_Solver',\n",
       "       'type': 'AssistantMessage'},\n",
       "      {'content': 'Write a simple Hello world code ?',\n",
       "       'source': 'user',\n",
       "       'type': 'UserMessage'},\n",
       "      {'content': '```python\\nprint(\"Hello, world!\")\\n```\\n\\nThis Python code uses the `print` function to display \"Hello, world!\" in the console, a classic introductory example.',\n",
       "       'thought': None,\n",
       "       'source': 'Complex_DSA_Solver',\n",
       "       'type': 'AssistantMessage'},\n",
       "      {'content': 'Write a simple Hello world code ?',\n",
       "       'source': 'user',\n",
       "       'type': 'UserMessage'},\n",
       "      {'content': '```python\\nprint(\"Hello, world!\")\\n```\\n\\nThis code prints \"Hello, world!\" in Python, serving as a classic introductory example.',\n",
       "       'thought': None,\n",
       "       'source': 'Complex_DSA_Solver',\n",
       "       'type': 'AssistantMessage'},\n",
       "      {'content': 'Write a simple Hello world code ?',\n",
       "       'source': 'user',\n",
       "       'type': 'UserMessage'},\n",
       "      {'content': '```python\\nprint(\"Hello, world!\")\\n```\\n\\nThis Python code prints \"Hello, world!\" to the console, a traditional first program for beginners.',\n",
       "       'thought': None,\n",
       "       'source': 'Complex_DSA_Solver',\n",
       "       'type': 'AssistantMessage'},\n",
       "      {'content': 'write a code to find median of two sorted arrays',\n",
       "       'source': 'user',\n",
       "       'type': 'UserMessage'},\n",
       "      {'content': \"```python\\ndef findMedianSortedArrays(nums1, nums2):\\n    # Ensure nums1 is the smaller array\\n    if len(nums1) > len(nums2):\\n        nums1, nums2 = nums2, nums1\\n\\n    x, y = len(nums1), len(nums2)\\n    low, high = 0, x\\n\\n    # Apply binary search on the smaller array\\n    while low <= high:\\n        partitionX = (low + high) // 2\\n        partitionY = (x + y + 1) // 2 - partitionX\\n\\n        # Get max and min from partitions\\n        maxX = float('-inf') if partitionX == 0 else nums1[partitionX - 1]\\n        minX = float('inf') if partitionX == x else nums1[partitionX]\\n        \\n        maxY = float('-inf') if partitionY == 0 else nums2[partitionY - 1]\\n        minY = float('inf') if partitionY == y else nums2[partitionY]\\n\\n        # Check partitions correctness\\n        if maxX <= minY and maxY <= minX:\\n            # Found correct partition, calculate median\\n            if (x + y) % 2 == 0:\\n                return (max(maxX, maxY) + min(minX, minY)) / 2\\n            else:\\n                return max(maxX, maxY)\\n\\n        elif maxX > minY:\\n            # Shift search to left in nums1\\n            high = partitionX - 1\\n        else:\\n            # Shift search to right in nums1\\n            low = partitionX + 1\\n\\n# Example usage:\\nnums1 = [1, 3]\\nnums2 = [2]\\nprint(findMedianSortedArrays(nums1, nums2))  # Output: 2.0\\n```\\n\\nThis code finds the median in logarithmic time using a binary search approach.\",\n",
       "       'thought': None,\n",
       "       'source': 'Complex_DSA_Solver',\n",
       "       'type': 'AssistantMessage'},\n",
       "      {'content': 'write a code to add 2 numbers',\n",
       "       'source': 'user',\n",
       "       'type': 'UserMessage'},\n",
       "      {'content': '```python\\ndef add_numbers(a, b):\\n    return a + b\\n\\n# Example usage:\\nnum1 = 5\\nnum2 = 10\\nresult = add_numbers(num1, num2)\\nprint(\"The sum is:\", result)\\n```\\n\\nThis function takes two numbers and returns their sum.',\n",
       "       'thought': None,\n",
       "       'source': 'Complex_DSA_Solver',\n",
       "       'type': 'AssistantMessage'}]}},\n",
       "   'message_buffer': [{'id': 'f750f033-3df0-46d3-8eac-d5fb2d398fba',\n",
       "     'source': 'user',\n",
       "     'models_usage': None,\n",
       "     'metadata': {},\n",
       "     'created_at': datetime.datetime(2025, 7, 12, 5, 28, 40, 830981, tzinfo=datetime.timezone.utc),\n",
       "     'content': 'write a code to add 2 numbers. TERMINATE',\n",
       "     'type': 'TextMessage'}]},\n",
       "  'CODE_REVIEWER': {'type': 'ChatAgentContainerState',\n",
       "   'version': '1.0.0',\n",
       "   'agent_state': {'type': 'AssistantAgentState',\n",
       "    'version': '1.0.0',\n",
       "    'llm_context': {'messages': [{'content': 'write a code to find median of two sorted arrays',\n",
       "       'source': 'user',\n",
       "       'type': 'UserMessage'},\n",
       "      {'content': '```python\\ndef findMedianSortedArrays(nums1, nums2):\\n    nums = sorted(nums1 + nums2)\\n    n = len(nums)\\n    if n % 2 == 0:\\n        return (nums[n//2 - 1] + nums[n//2]) / 2\\n    else:\\n        return nums[n//2]\\n\\n# Example usage:\\nnums1 = [1, 3]\\nnums2 = [2]\\nprint(findMedianSortedArrays(nums1, nums2))  # Output: 2.0\\n```\\n\\nThis function merges two sorted arrays and finds the median.',\n",
       "       'source': 'Complex_DSA_Solver',\n",
       "       'type': 'UserMessage'},\n",
       "      {'content': 'Optimize by using binary search approach.',\n",
       "       'thought': None,\n",
       "       'source': 'CODE_REVIEWER',\n",
       "       'type': 'AssistantMessage'},\n",
       "      {'content': \"```python\\ndef findMedianSortedArrays(nums1, nums2):\\n    # Ensure nums1 is the smaller array\\n    if len(nums1) > len(nums2):\\n        nums1, nums2 = nums2, nums1\\n\\n    x, y = len(nums1), len(nums2)\\n    low, high = 0, x\\n\\n    # Apply binary search on the smaller array\\n    while low <= high:\\n        partitionX = (low + high) // 2\\n        partitionY = (x + y + 1) // 2 - partitionX\\n\\n        # Get max and min from partitions\\n        maxX = float('-inf') if partitionX == 0 else nums1[partitionX - 1]\\n        minX = float('inf') if partitionX == x else nums1[partitionX]\\n        \\n        maxY = float('-inf') if partitionY == 0 else nums2[partitionY - 1]\\n        minY = float('inf') if partitionY == y else nums2[partitionY]\\n\\n        # Check partitions correctness\\n        if maxX <= minY and maxY <= minX:\\n            # Found correct partition, calculate median\\n            if (x + y) % 2 == 0:\\n                return (max(maxX, maxY) + min(minX, minY)) / 2\\n            else:\\n                return max(maxX, maxY)\\n\\n        elif maxX > minY:\\n            # Shift search to left in nums1\\n            high = partitionX - 1\\n        else:\\n            # Shift search to right in nums1\\n            low = partitionX + 1\\n\\n# Example usage:\\nnums1 = [1, 3]\\nnums2 = [2]\\nprint(findMedianSortedArrays(nums1, nums2))  # Output: 2.0\\n```\\n\\nThis code finds median using binary search on one array.\",\n",
       "       'source': 'CODE_EDITOR',\n",
       "       'type': 'UserMessage'},\n",
       "      {'content': 'This optimized solution leverages a binary search strategy to achieve a more efficient time complexity when finding the median of two sorted arrays. By ensuring binary search only runs on the smaller array, it reduces unnecessary computational steps. This approach effectively maintains logarithmic time complexity, which is crucial for handling larger datasets efficiently.',\n",
       "       'source': 'Complex_DSA_Solver',\n",
       "       'type': 'UserMessage'},\n",
       "      {'content': 'TERMINATE',\n",
       "       'thought': None,\n",
       "       'source': 'CODE_REVIEWER',\n",
       "       'type': 'AssistantMessage'},\n",
       "      {'content': 'Write a simple Hello world code ?',\n",
       "       'source': 'user',\n",
       "       'type': 'UserMessage'},\n",
       "      {'content': '```python\\nprint(\"Hello, world!\")\\n```\\n\\nA basic Python code to print \"Hello, world!\".',\n",
       "       'source': 'CODE_EDITOR',\n",
       "       'type': 'UserMessage'},\n",
       "      {'content': 'This simple Python script uses the `print` function to display the message \"Hello, world!\" on the screen, demonstrating a classic introductory example for beginners.',\n",
       "       'source': 'Complex_DSA_Solver',\n",
       "       'type': 'UserMessage'},\n",
       "      {'content': 'TERMINATE',\n",
       "       'thought': None,\n",
       "       'source': 'CODE_REVIEWER',\n",
       "       'type': 'AssistantMessage'},\n",
       "      {'content': 'Write a simple Hello world code ?',\n",
       "       'source': 'user',\n",
       "       'type': 'UserMessage'},\n",
       "      {'content': '```python\\nprint(\"Hello, world!\")\\n```\\n\\nPrints \"Hello, world!\" in Python.',\n",
       "       'source': 'CODE_EDITOR',\n",
       "       'type': 'UserMessage'},\n",
       "      {'content': 'This Python script uses the `print` function to output the message \"Hello, world!\", making it a classic starting point for learning programming basics.',\n",
       "       'source': 'Complex_DSA_Solver',\n",
       "       'type': 'UserMessage'},\n",
       "      {'content': 'TERMINATE',\n",
       "       'thought': None,\n",
       "       'source': 'CODE_REVIEWER',\n",
       "       'type': 'AssistantMessage'},\n",
       "      {'content': 'Write a simple Hello world code ?',\n",
       "       'source': 'user',\n",
       "       'type': 'UserMessage'},\n",
       "      {'content': '```python\\nprint(\"Hello, world!\")\\n```\\n\\nPrints \"Hello, world!\" to console.',\n",
       "       'source': 'CODE_EDITOR',\n",
       "       'type': 'UserMessage'},\n",
       "      {'content': 'This code snippet executes the `print` function to output \"Hello, world!\" in Python, a traditional first program for beginners.',\n",
       "       'source': 'Complex_DSA_Solver',\n",
       "       'type': 'UserMessage'},\n",
       "      {'content': 'TERMINATE',\n",
       "       'thought': None,\n",
       "       'source': 'CODE_REVIEWER',\n",
       "       'type': 'AssistantMessage'},\n",
       "      {'content': 'Write a simple Hello world code ?',\n",
       "       'source': 'user',\n",
       "       'type': 'UserMessage'},\n",
       "      {'content': '```python\\nprint(\"Hello, world!\")\\n```\\n\\nThis Python code uses the `print` function to display \"Hello, world!\" in the console, a classic introductory example.',\n",
       "       'source': 'Complex_DSA_Solver',\n",
       "       'type': 'UserMessage'},\n",
       "      {'content': 'TERMINATE',\n",
       "       'thought': None,\n",
       "       'source': 'CODE_REVIEWER',\n",
       "       'type': 'AssistantMessage'},\n",
       "      {'content': 'Write a simple Hello world code ?',\n",
       "       'source': 'user',\n",
       "       'type': 'UserMessage'},\n",
       "      {'content': '```python\\nprint(\"Hello, world!\")\\n```\\n\\nThis code prints \"Hello, world!\" in Python, serving as a classic introductory example.',\n",
       "       'source': 'Complex_DSA_Solver',\n",
       "       'type': 'UserMessage'},\n",
       "      {'content': 'TERMINATE',\n",
       "       'thought': None,\n",
       "       'source': 'CODE_REVIEWER',\n",
       "       'type': 'AssistantMessage'},\n",
       "      {'content': 'Write a simple Hello world code ?',\n",
       "       'source': 'user',\n",
       "       'type': 'UserMessage'},\n",
       "      {'content': '```python\\nprint(\"Hello, world!\")\\n```\\n\\nThis Python code prints \"Hello, world!\" to the console, a traditional first program for beginners.',\n",
       "       'source': 'Complex_DSA_Solver',\n",
       "       'type': 'UserMessage'},\n",
       "      {'content': 'TERMINATE',\n",
       "       'thought': None,\n",
       "       'source': 'CODE_REVIEWER',\n",
       "       'type': 'AssistantMessage'}]}},\n",
       "   'message_buffer': [{'id': 'f750f033-3df0-46d3-8eac-d5fb2d398fba',\n",
       "     'source': 'user',\n",
       "     'models_usage': None,\n",
       "     'metadata': {},\n",
       "     'created_at': datetime.datetime(2025, 7, 12, 5, 28, 40, 830981, tzinfo=datetime.timezone.utc),\n",
       "     'content': 'write a code to add 2 numbers. TERMINATE',\n",
       "     'type': 'TextMessage'}]},\n",
       "  'CODE_EDITOR': {'type': 'ChatAgentContainerState',\n",
       "   'version': '1.0.0',\n",
       "   'agent_state': {'type': 'AssistantAgentState',\n",
       "    'version': '1.0.0',\n",
       "    'llm_context': {'messages': [{'content': 'write a code to find median of two sorted arrays',\n",
       "       'source': 'user',\n",
       "       'type': 'UserMessage'},\n",
       "      {'content': '```python\\ndef findMedianSortedArrays(nums1, nums2):\\n    nums = sorted(nums1 + nums2)\\n    n = len(nums)\\n    if n % 2 == 0:\\n        return (nums[n//2 - 1] + nums[n//2]) / 2\\n    else:\\n        return nums[n//2]\\n\\n# Example usage:\\nnums1 = [1, 3]\\nnums2 = [2]\\nprint(findMedianSortedArrays(nums1, nums2))  # Output: 2.0\\n```\\n\\nThis function merges two sorted arrays and finds the median.',\n",
       "       'source': 'Complex_DSA_Solver',\n",
       "       'type': 'UserMessage'},\n",
       "      {'content': 'Optimize by using binary search approach.',\n",
       "       'source': 'CODE_REVIEWER',\n",
       "       'type': 'UserMessage'},\n",
       "      {'content': \"```python\\ndef findMedianSortedArrays(nums1, nums2):\\n    # Ensure nums1 is the smaller array\\n    if len(nums1) > len(nums2):\\n        nums1, nums2 = nums2, nums1\\n\\n    x, y = len(nums1), len(nums2)\\n    low, high = 0, x\\n\\n    # Apply binary search on the smaller array\\n    while low <= high:\\n        partitionX = (low + high) // 2\\n        partitionY = (x + y + 1) // 2 - partitionX\\n\\n        # Get max and min from partitions\\n        maxX = float('-inf') if partitionX == 0 else nums1[partitionX - 1]\\n        minX = float('inf') if partitionX == x else nums1[partitionX]\\n        \\n        maxY = float('-inf') if partitionY == 0 else nums2[partitionY - 1]\\n        minY = float('inf') if partitionY == y else nums2[partitionY]\\n\\n        # Check partitions correctness\\n        if maxX <= minY and maxY <= minX:\\n            # Found correct partition, calculate median\\n            if (x + y) % 2 == 0:\\n                return (max(maxX, maxY) + min(minX, minY)) / 2\\n            else:\\n                return max(maxX, maxY)\\n\\n        elif maxX > minY:\\n            # Shift search to left in nums1\\n            high = partitionX - 1\\n        else:\\n            # Shift search to right in nums1\\n            low = partitionX + 1\\n\\n# Example usage:\\nnums1 = [1, 3]\\nnums2 = [2]\\nprint(findMedianSortedArrays(nums1, nums2))  # Output: 2.0\\n```\\n\\nThis code finds median using binary search on one array.\",\n",
       "       'thought': None,\n",
       "       'source': 'CODE_EDITOR',\n",
       "       'type': 'AssistantMessage'},\n",
       "      {'content': 'This optimized solution leverages a binary search strategy to achieve a more efficient time complexity when finding the median of two sorted arrays. By ensuring binary search only runs on the smaller array, it reduces unnecessary computational steps. This approach effectively maintains logarithmic time complexity, which is crucial for handling larger datasets efficiently.',\n",
       "       'source': 'Complex_DSA_Solver',\n",
       "       'type': 'UserMessage'},\n",
       "      {'content': 'TERMINATE',\n",
       "       'source': 'CODE_REVIEWER',\n",
       "       'type': 'UserMessage'},\n",
       "      {'content': 'Write a simple Hello world code ?',\n",
       "       'source': 'user',\n",
       "       'type': 'UserMessage'},\n",
       "      {'content': '```python\\nprint(\"Hello, world!\")\\n```\\n\\nA basic Python code to print \"Hello, world!\".',\n",
       "       'thought': None,\n",
       "       'source': 'CODE_EDITOR',\n",
       "       'type': 'AssistantMessage'},\n",
       "      {'content': 'This simple Python script uses the `print` function to display the message \"Hello, world!\" on the screen, demonstrating a classic introductory example for beginners.',\n",
       "       'source': 'Complex_DSA_Solver',\n",
       "       'type': 'UserMessage'},\n",
       "      {'content': 'TERMINATE',\n",
       "       'source': 'CODE_REVIEWER',\n",
       "       'type': 'UserMessage'},\n",
       "      {'content': 'Write a simple Hello world code ?',\n",
       "       'source': 'user',\n",
       "       'type': 'UserMessage'},\n",
       "      {'content': '```python\\nprint(\"Hello, world!\")\\n```\\n\\nPrints \"Hello, world!\" in Python.',\n",
       "       'thought': None,\n",
       "       'source': 'CODE_EDITOR',\n",
       "       'type': 'AssistantMessage'},\n",
       "      {'content': 'This Python script uses the `print` function to output the message \"Hello, world!\", making it a classic starting point for learning programming basics.',\n",
       "       'source': 'Complex_DSA_Solver',\n",
       "       'type': 'UserMessage'},\n",
       "      {'content': 'TERMINATE',\n",
       "       'source': 'CODE_REVIEWER',\n",
       "       'type': 'UserMessage'},\n",
       "      {'content': 'Write a simple Hello world code ?',\n",
       "       'source': 'user',\n",
       "       'type': 'UserMessage'},\n",
       "      {'content': '```python\\nprint(\"Hello, world!\")\\n```\\n\\nPrints \"Hello, world!\" to console.',\n",
       "       'thought': None,\n",
       "       'source': 'CODE_EDITOR',\n",
       "       'type': 'AssistantMessage'}]}},\n",
       "   'message_buffer': [{'id': 'f750f033-3df0-46d3-8eac-d5fb2d398fba',\n",
       "     'source': 'user',\n",
       "     'models_usage': None,\n",
       "     'metadata': {},\n",
       "     'created_at': datetime.datetime(2025, 7, 12, 5, 28, 40, 830981, tzinfo=datetime.timezone.utc),\n",
       "     'content': 'write a code to add 2 numbers. TERMINATE',\n",
       "     'type': 'TextMessage'}]},\n",
       "  'RoundRobinGroupChatManager': {'type': 'RoundRobinManagerState',\n",
       "   'version': '1.0.0',\n",
       "   'message_thread': [{'id': 'f750f033-3df0-46d3-8eac-d5fb2d398fba',\n",
       "     'source': 'user',\n",
       "     'models_usage': None,\n",
       "     'metadata': {},\n",
       "     'created_at': datetime.datetime(2025, 7, 12, 5, 28, 40, 830981, tzinfo=datetime.timezone.utc),\n",
       "     'content': 'write a code to add 2 numbers. TERMINATE',\n",
       "     'type': 'TextMessage'}],\n",
       "   'current_turn': 0,\n",
       "   'next_speaker_index': 0}}}"
      ]
     },
     "execution_count": 38,
     "metadata": {},
     "output_type": "execute_result"
    }
   ],
   "source": [
    "state"
   ]
  },
  {
   "cell_type": "code",
   "execution_count": 39,
   "id": "ed1e1344",
   "metadata": {},
   "outputs": [],
   "source": [
    "# Resuming a team"
   ]
  },
  {
   "cell_type": "code",
   "execution_count": 44,
   "id": "45ec0c56",
   "metadata": {},
   "outputs": [],
   "source": [
    "from autogen_agentchat.agents import AssistantAgent\n",
    "add_1_agent_first = AssistantAgent(\n",
    "    name = 'add_1_agent_first',\n",
    "    model_client=model_client,\n",
    "    system_message=\"Add 1 to the number, first number is 0. Give result as output\"\n",
    ")\n",
    "\n",
    "add_1_agent_second = AssistantAgent(\n",
    "    name = 'add_1_agent_second',\n",
    "    model_client=model_client,\n",
    "    system_message=\"Add 1 to the number you got from previous run. Give result as output.\"\n",
    ")\n",
    " \n",
    "add_1_agent_third = AssistantAgent(\n",
    "    name = 'add_1_agent_third',\n",
    "    model_client=model_client,\n",
    "    system_message=\"Add 1 to the number from previous run. Give result as output.\"\n",
    ")\n",
    "\n",
    "my_increment_team = RoundRobinGroupChat(participants=[add_1_agent_first,add_1_agent_second,add_1_agent_third],max_turns=2)"
   ]
  },
  {
   "cell_type": "code",
   "execution_count": 45,
   "id": "55cadeb4",
   "metadata": {},
   "outputs": [
    {
     "name": "stdout",
     "output_type": "stream",
     "text": [
      "---------- TextMessage (add_1_agent_first) ----------\n",
      "1\n",
      "---------- TextMessage (add_1_agent_second) ----------\n",
      "2\n"
     ]
    },
    {
     "data": {
      "text/plain": [
       "TaskResult(messages=[TextMessage(id='4fb3fdb7-453a-4b9a-8b0e-a92e32e27936', source='add_1_agent_first', models_usage=RequestUsage(prompt_tokens=24, completion_tokens=1), metadata={}, created_at=datetime.datetime(2025, 7, 12, 5, 35, 18, 901149, tzinfo=datetime.timezone.utc), content='1', type='TextMessage'), TextMessage(id='9fc63c70-d127-4ba7-baa3-037ac38601fb', source='add_1_agent_second', models_usage=RequestUsage(prompt_tokens=34, completion_tokens=1), metadata={}, created_at=datetime.datetime(2025, 7, 12, 5, 35, 19, 346384, tzinfo=datetime.timezone.utc), content='2', type='TextMessage')], stop_reason='Maximum number of turns 2 reached.')"
      ]
     },
     "execution_count": 45,
     "metadata": {},
     "output_type": "execute_result"
    }
   ],
   "source": [
    "from autogen_agentchat.ui import Console\n",
    "\n",
    "await Console(my_increment_team.run_stream())"
   ]
  },
  {
   "cell_type": "code",
   "execution_count": 46,
   "id": "36b7d73a",
   "metadata": {},
   "outputs": [
    {
     "name": "stdout",
     "output_type": "stream",
     "text": [
      "---------- TextMessage (add_1_agent_third) ----------\n",
      "3\n",
      "---------- TextMessage (add_1_agent_first) ----------\n",
      "4\n"
     ]
    },
    {
     "data": {
      "text/plain": [
       "TaskResult(messages=[TextMessage(id='8903eae2-9da0-424d-ae55-d86cad5c6fa0', source='add_1_agent_third', models_usage=RequestUsage(prompt_tokens=42, completion_tokens=1), metadata={}, created_at=datetime.datetime(2025, 7, 12, 5, 35, 21, 791524, tzinfo=datetime.timezone.utc), content='3', type='TextMessage'), TextMessage(id='20cb7c50-f2ab-4089-8676-f3fd55fc65bb', source='add_1_agent_first', models_usage=RequestUsage(prompt_tokens=50, completion_tokens=1), metadata={}, created_at=datetime.datetime(2025, 7, 12, 5, 35, 22, 368224, tzinfo=datetime.timezone.utc), content='4', type='TextMessage')], stop_reason='Maximum number of turns 2 reached.')"
      ]
     },
     "execution_count": 46,
     "metadata": {},
     "output_type": "execute_result"
    }
   ],
   "source": [
    "await Console(my_increment_team.run_stream())"
   ]
  },
  {
   "cell_type": "code",
   "execution_count": 47,
   "id": "3bc93c16",
   "metadata": {},
   "outputs": [
    {
     "name": "stdout",
     "output_type": "stream",
     "text": [
      "---------- TextMessage (add_1_agent_second) ----------\n",
      "5\n",
      "---------- TextMessage (add_1_agent_third) ----------\n",
      "6\n"
     ]
    },
    {
     "data": {
      "text/plain": [
       "TaskResult(messages=[TextMessage(id='895abc30-fca0-439e-91d2-918f0e10ccfd', source='add_1_agent_second', models_usage=RequestUsage(prompt_tokens=60, completion_tokens=1), metadata={}, created_at=datetime.datetime(2025, 7, 12, 5, 35, 24, 711820, tzinfo=datetime.timezone.utc), content='5', type='TextMessage'), TextMessage(id='57432aea-4dcd-47c8-ae97-94457799f1ed', source='add_1_agent_third', models_usage=RequestUsage(prompt_tokens=67, completion_tokens=1), metadata={}, created_at=datetime.datetime(2025, 7, 12, 5, 35, 25, 498897, tzinfo=datetime.timezone.utc), content='6', type='TextMessage')], stop_reason='Maximum number of turns 2 reached.')"
      ]
     },
     "execution_count": 47,
     "metadata": {},
     "output_type": "execute_result"
    }
   ],
   "source": [
    "await Console(my_increment_team.run_stream())"
   ]
  },
  {
   "cell_type": "code",
   "execution_count": null,
   "id": "a4fe2730",
   "metadata": {},
   "outputs": [
    {
     "name": "stderr",
     "output_type": "stream",
     "text": [
      "/var/folders/gd/gpz62qhd2k59xc_wfb3qp1f80000gn/T/ipykernel_7504/1378057381.py:1: RuntimeWarning: coroutine 'BaseGroupChat.reset' was never awaited\n",
      "  team.reset()\n",
      "RuntimeWarning: Enable tracemalloc to get the object allocation traceback\n"
     ]
    },
    {
     "name": "stdout",
     "output_type": "stream",
     "text": [
      "---------- TextMessage (add_1_agent_first) ----------\n",
      "7\n",
      "---------- TextMessage (add_1_agent_second) ----------\n",
      "8\n"
     ]
    },
    {
     "data": {
      "text/plain": [
       "TaskResult(messages=[TextMessage(id='13efff9a-c8b8-40bd-b109-250f0fc3378f', source='add_1_agent_first', models_usage=RequestUsage(prompt_tokens=76, completion_tokens=1), metadata={}, created_at=datetime.datetime(2025, 7, 12, 5, 35, 46, 652684, tzinfo=datetime.timezone.utc), content='7', type='TextMessage'), TextMessage(id='eb22a29a-b35b-4fed-88e1-d9fd4c8cda2e', source='add_1_agent_second', models_usage=RequestUsage(prompt_tokens=86, completion_tokens=1), metadata={}, created_at=datetime.datetime(2025, 7, 12, 5, 35, 47, 652954, tzinfo=datetime.timezone.utc), content='8', type='TextMessage')], stop_reason='Maximum number of turns 2 reached.')"
      ]
     },
     "execution_count": 48,
     "metadata": {},
     "output_type": "execute_result"
    }
   ],
   "source": [
    "team.reset()\n",
    "await Console(my_increment_team.run_stream())"
   ]
  },
  {
   "cell_type": "code",
   "execution_count": null,
   "id": "8e9cf0dd",
   "metadata": {},
   "outputs": [
    {
     "name": "stdout",
     "output_type": "stream",
     "text": [
      "---------- TextMessage (add_1_agent_first) ----------\n",
      "1\n",
      "---------- TextMessage (add_1_agent_second) ----------\n",
      "2\n"
     ]
    },
    {
     "data": {
      "text/plain": [
       "TaskResult(messages=[TextMessage(id='80b90056-8e50-4dbe-8a3e-acdc3a2a7bc4', source='add_1_agent_first', models_usage=RequestUsage(prompt_tokens=24, completion_tokens=1), metadata={}, created_at=datetime.datetime(2025, 7, 12, 5, 36, 19, 635385, tzinfo=datetime.timezone.utc), content='1', type='TextMessage'), TextMessage(id='2c6db4a8-826e-4689-a3c3-d05778d2c413', source='add_1_agent_second', models_usage=RequestUsage(prompt_tokens=34, completion_tokens=1), metadata={}, created_at=datetime.datetime(2025, 7, 12, 5, 36, 20, 506722, tzinfo=datetime.timezone.utc), content='2', type='TextMessage')], stop_reason='Maximum number of turns 2 reached.')"
      ]
     },
     "execution_count": 50,
     "metadata": {},
     "output_type": "execute_result"
    }
   ],
   "source": [
    "await my_increment_team.reset()\n",
    "await Console(my_increment_team.run_stream())"
   ]
  },
  {
   "cell_type": "code",
   "execution_count": 51,
   "id": "8fad347d",
   "metadata": {},
   "outputs": [
    {
     "name": "stdout",
     "output_type": "stream",
     "text": [
      "---------- TextMessage (add_1_agent_first) ----------\n",
      "1\n",
      "---------- TextMessage (add_1_agent_first) ----------\n",
      "2\n",
      "---------- TextMessage (add_1_agent_first) ----------\n",
      "2\n",
      "---------- TextMessage (add_1_agent_first) ----------\n",
      "2\n",
      "---------- TextMessage (add_1_agent_first) ----------\n",
      "3\n"
     ]
    },
    {
     "data": {
      "text/plain": [
       "TaskResult(messages=[TextMessage(id='b575bd03-24f9-45a8-bde4-22f6e54d7c16', source='add_1_agent_first', models_usage=RequestUsage(prompt_tokens=24, completion_tokens=1), metadata={}, created_at=datetime.datetime(2025, 7, 13, 3, 8, 18, 46864, tzinfo=datetime.timezone.utc), content='1', type='TextMessage'), TextMessage(id='41089c08-2d61-4cf3-b2b8-12b90f819f6f', source='add_1_agent_first', models_usage=RequestUsage(prompt_tokens=29, completion_tokens=1), metadata={}, created_at=datetime.datetime(2025, 7, 13, 3, 8, 18, 939096, tzinfo=datetime.timezone.utc), content='2', type='TextMessage'), TextMessage(id='30ad224f-ad3e-40c2-9eb5-65c72b57f510', source='add_1_agent_first', models_usage=RequestUsage(prompt_tokens=34, completion_tokens=1), metadata={}, created_at=datetime.datetime(2025, 7, 13, 3, 8, 19, 517574, tzinfo=datetime.timezone.utc), content='2', type='TextMessage'), TextMessage(id='ec90e28d-db47-472d-b2ee-bd92cfca3e8a', source='add_1_agent_first', models_usage=RequestUsage(prompt_tokens=39, completion_tokens=1), metadata={}, created_at=datetime.datetime(2025, 7, 13, 3, 8, 20, 491896, tzinfo=datetime.timezone.utc), content='2', type='TextMessage'), TextMessage(id='08c84913-066b-4db2-8e50-a0cd1995916d', source='add_1_agent_first', models_usage=RequestUsage(prompt_tokens=44, completion_tokens=1), metadata={}, created_at=datetime.datetime(2025, 7, 13, 3, 8, 21, 276965, tzinfo=datetime.timezone.utc), content='3', type='TextMessage')], stop_reason='Maximum number of turns 5 reached.')"
      ]
     },
     "execution_count": 51,
     "metadata": {},
     "output_type": "execute_result"
    }
   ],
   "source": [
    "my_increment_team = RoundRobinGroupChat(participants=[add_1_agent_first],max_turns=5)\n",
    "await my_increment_team.reset()\n",
    "await Console(my_increment_team.run_stream())\n"
   ]
  },
  {
   "cell_type": "code",
   "execution_count": 53,
   "id": "0b908316",
   "metadata": {},
   "outputs": [
    {
     "name": "stdout",
     "output_type": "stream",
     "text": [
      "\n",
      "Task was cancelled.\n"
     ]
    }
   ],
   "source": [
    "from autogen_core import CancellationToken\n",
    "\n",
    "\n",
    "# Create a cancellation token.\n",
    "cancellation_token = CancellationToken()\n",
    "\n",
    "# Use another coroutine to run the team.\n",
    "run = asyncio.create_task(\n",
    "    team.run(\n",
    "        task=\"Translate the poem to Spanish.\",\n",
    "        cancellation_token=cancellation_token,\n",
    "    )\n",
    ")\n",
    "\n",
    "# Cancel the run.\n",
    "cancellation_token.cancel()\n",
    "\n",
    "try:\n",
    "    result = await run  # This will raise a CancelledError.\n",
    "except asyncio.CancelledError as e:\n",
    "    print(e)\n",
    "    print(\"Task was cancelled.\")\n"
   ]
  },
  {
   "cell_type": "code",
   "execution_count": null,
   "id": "fdb9a175",
   "metadata": {},
   "outputs": [],
   "source": []
  }
 ],
 "metadata": {
  "kernelspec": {
   "display_name": ".venv (3.12.9)",
   "language": "python",
   "name": "python3"
  },
  "language_info": {
   "codemirror_mode": {
    "name": "ipython",
    "version": 3
   },
   "file_extension": ".py",
   "mimetype": "text/x-python",
   "name": "python",
   "nbconvert_exporter": "python",
   "pygments_lexer": "ipython3",
   "version": "3.12.9"
  }
 },
 "nbformat": 4,
 "nbformat_minor": 5
}
